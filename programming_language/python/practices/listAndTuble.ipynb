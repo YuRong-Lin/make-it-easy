{
  "nbformat": 4,
  "nbformat_minor": 0,
  "metadata": {
    "colab": {
      "name": "listAndTuble.ipynb",
      "provenance": []
    },
    "kernelspec": {
      "name": "python3",
      "display_name": "Python 3"
    }
  },
  "cells": [
    {
      "cell_type": "markdown",
      "metadata": {
        "id": "VB-R_K-POK1_"
      },
      "source": [
        "定义：\n",
        "列表和元组都是可以保存任意类型的有序集合。"
      ]
    },
    {
      "cell_type": "code",
      "metadata": {
        "colab": {
          "base_uri": "https://localhost:8080/"
        },
        "id": "TFCA3M6tMDsq",
        "outputId": "76ec3abe-7202-4981-c95a-6072ecdb9730"
      },
      "source": [
        "mylist = [1,2,\"hello\",\"world\"]\n",
        "mylist"
      ],
      "execution_count": null,
      "outputs": [
        {
          "output_type": "execute_result",
          "data": {
            "text/plain": [
              "[1, 2, 'hello', 'world']"
            ]
          },
          "metadata": {
            "tags": []
          },
          "execution_count": 4
        }
      ]
    },
    {
      "cell_type": "code",
      "metadata": {
        "colab": {
          "base_uri": "https://localhost:8080/"
        },
        "id": "LohZy_K8NdTt",
        "outputId": "4c9bcf62-cfe7-4c20-8996-0f699e8f17b9"
      },
      "source": [
        "tup = (1,2,\"hello\")\n",
        "tup"
      ],
      "execution_count": null,
      "outputs": [
        {
          "output_type": "execute_result",
          "data": {
            "text/plain": [
              "(1, 2, 'hello')"
            ]
          },
          "metadata": {
            "tags": []
          },
          "execution_count": 2
        }
      ]
    },
    {
      "cell_type": "markdown",
      "metadata": {
        "id": "NpaeQWZYOe86"
      },
      "source": [
        "差异：\n",
        "列表是可动态变化的，元组是静态不可变的。"
      ]
    },
    {
      "cell_type": "code",
      "metadata": {
        "colab": {
          "base_uri": "https://localhost:8080/"
        },
        "id": "zKu-HlO4Nhhb",
        "outputId": "231889ac-63b1-4bed-b527-284d643339a1"
      },
      "source": [
        "mylist[1] = 3\n",
        "mylist"
      ],
      "execution_count": null,
      "outputs": [
        {
          "output_type": "execute_result",
          "data": {
            "text/plain": [
              "[1, 3, 'hello', 'world']"
            ]
          },
          "metadata": {
            "tags": []
          },
          "execution_count": 5
        }
      ]
    },
    {
      "cell_type": "code",
      "metadata": {
        "colab": {
          "base_uri": "https://localhost:8080/",
          "height": 181
        },
        "id": "GZZOXPefNuHr",
        "outputId": "db6b3dc7-615b-4829-d472-5b962849b02f"
      },
      "source": [
        "tup[1] = 3"
      ],
      "execution_count": null,
      "outputs": [
        {
          "output_type": "error",
          "ename": "TypeError",
          "evalue": "ignored",
          "traceback": [
            "\u001b[0;31m---------------------------------------------------------------------------\u001b[0m",
            "\u001b[0;31mTypeError\u001b[0m                                 Traceback (most recent call last)",
            "\u001b[0;32m<ipython-input-6-db25c592b7f7>\u001b[0m in \u001b[0;36m<module>\u001b[0;34m()\u001b[0m\n\u001b[0;32m----> 1\u001b[0;31m \u001b[0mtup\u001b[0m\u001b[0;34m[\u001b[0m\u001b[0;36m1\u001b[0m\u001b[0;34m]\u001b[0m \u001b[0;34m=\u001b[0m \u001b[0;36m3\u001b[0m\u001b[0;34m\u001b[0m\u001b[0;34m\u001b[0m\u001b[0m\n\u001b[0m\u001b[1;32m      2\u001b[0m \u001b[0mtup\u001b[0m\u001b[0;34m\u001b[0m\u001b[0;34m\u001b[0m\u001b[0m\n",
            "\u001b[0;31mTypeError\u001b[0m: 'tuple' object does not support item assignment"
          ]
        }
      ]
    },
    {
      "cell_type": "markdown",
      "metadata": {
        "id": "9v69m8ApPinC"
      },
      "source": [
        "要给元组添加元素，其实会新建一个元组，并把数据复制过去\n",
        "\n",
        "而列表直接在末尾添加即可"
      ]
    },
    {
      "cell_type": "code",
      "metadata": {
        "id": "l3Gm-HZ9N4e6"
      },
      "source": [
        "new_tup = tup + (5,)"
      ],
      "execution_count": null,
      "outputs": []
    },
    {
      "cell_type": "code",
      "metadata": {
        "colab": {
          "base_uri": "https://localhost:8080/"
        },
        "id": "UpH4UDSyPzmv",
        "outputId": "95d8269a-4901-4c22-c376-c534fa71dd99"
      },
      "source": [
        "tup"
      ],
      "execution_count": null,
      "outputs": [
        {
          "output_type": "execute_result",
          "data": {
            "text/plain": [
              "(1, 2, 'hello')"
            ]
          },
          "metadata": {
            "tags": []
          },
          "execution_count": 10
        }
      ]
    },
    {
      "cell_type": "code",
      "metadata": {
        "colab": {
          "base_uri": "https://localhost:8080/"
        },
        "id": "661AbO0CP6xj",
        "outputId": "2d662ab0-094b-4d09-deec-e1801fc3509f"
      },
      "source": [
        "new_tup"
      ],
      "execution_count": null,
      "outputs": [
        {
          "output_type": "execute_result",
          "data": {
            "text/plain": [
              "(1, 2, 'hello', 5)"
            ]
          },
          "metadata": {
            "tags": []
          },
          "execution_count": 11
        }
      ]
    },
    {
      "cell_type": "code",
      "metadata": {
        "id": "sIGS2OiXP8Uu"
      },
      "source": [
        "mylist.append(5)"
      ],
      "execution_count": null,
      "outputs": []
    },
    {
      "cell_type": "code",
      "metadata": {
        "colab": {
          "base_uri": "https://localhost:8080/"
        },
        "id": "5GYc0thaQKYj",
        "outputId": "68bc6f2d-bd2a-4999-aabc-80d212a9d294"
      },
      "source": [
        "mylist"
      ],
      "execution_count": null,
      "outputs": [
        {
          "output_type": "execute_result",
          "data": {
            "text/plain": [
              "[1, 3, 'hello', 'world', 5]"
            ]
          },
          "metadata": {
            "tags": []
          },
          "execution_count": 13
        }
      ]
    },
    {
      "cell_type": "markdown",
      "metadata": {
        "id": "oNI_0ERVQebQ"
      },
      "source": [
        "列表和元组都支持负数索引和切片(左闭右开)"
      ]
    },
    {
      "cell_type": "code",
      "metadata": {
        "colab": {
          "base_uri": "https://localhost:8080/"
        },
        "id": "2_BFYg56QLOO",
        "outputId": "bc2f00d0-4d3d-4c93-ad47-a0edd279e76c"
      },
      "source": [
        "mylist[-1]"
      ],
      "execution_count": null,
      "outputs": [
        {
          "output_type": "execute_result",
          "data": {
            "text/plain": [
              "5"
            ]
          },
          "metadata": {
            "tags": []
          },
          "execution_count": 14
        }
      ]
    },
    {
      "cell_type": "code",
      "metadata": {
        "colab": {
          "base_uri": "https://localhost:8080/",
          "height": 37
        },
        "id": "0treuiSLQknL",
        "outputId": "781ff96a-61e8-42d4-c382-e56b6922db8f"
      },
      "source": [
        "tup[-1]"
      ],
      "execution_count": null,
      "outputs": [
        {
          "output_type": "execute_result",
          "data": {
            "application/vnd.google.colaboratory.intrinsic+json": {
              "type": "string"
            },
            "text/plain": [
              "'hello'"
            ]
          },
          "metadata": {
            "tags": []
          },
          "execution_count": 15
        }
      ]
    },
    {
      "cell_type": "code",
      "metadata": {
        "colab": {
          "base_uri": "https://localhost:8080/"
        },
        "id": "DKPEhm6eQmpR",
        "outputId": "a8fd9710-d0f7-4def-f09d-bc8308478922"
      },
      "source": [
        "mylist[1:2]"
      ],
      "execution_count": null,
      "outputs": [
        {
          "output_type": "execute_result",
          "data": {
            "text/plain": [
              "[3]"
            ]
          },
          "metadata": {
            "tags": []
          },
          "execution_count": 16
        }
      ]
    },
    {
      "cell_type": "code",
      "metadata": {
        "colab": {
          "base_uri": "https://localhost:8080/"
        },
        "id": "8F6H0-a4Qo37",
        "outputId": "07cf44fb-1b59-49b3-8f33-fe2f02bf3f77"
      },
      "source": [
        "tup[1:]"
      ],
      "execution_count": null,
      "outputs": [
        {
          "output_type": "execute_result",
          "data": {
            "text/plain": [
              "(2, 'hello')"
            ]
          },
          "metadata": {
            "tags": []
          },
          "execution_count": 17
        }
      ]
    },
    {
      "cell_type": "markdown",
      "metadata": {
        "id": "YfEz5d_nQ76o"
      },
      "source": [
        "支持嵌套"
      ]
    },
    {
      "cell_type": "code",
      "metadata": {
        "id": "oQh_YekBQqFQ"
      },
      "source": [
        "mylist = [[1,2],[\"hello\",\"world\"]]"
      ],
      "execution_count": null,
      "outputs": []
    },
    {
      "cell_type": "code",
      "metadata": {
        "colab": {
          "base_uri": "https://localhost:8080/"
        },
        "id": "edHXWNW0RDhs",
        "outputId": "834e1e63-d0ec-4da3-af6e-9e505b6a77a6"
      },
      "source": [
        "mylist"
      ],
      "execution_count": null,
      "outputs": [
        {
          "output_type": "execute_result",
          "data": {
            "text/plain": [
              "[[1, 2], ['hello', 'world']]"
            ]
          },
          "metadata": {
            "tags": []
          },
          "execution_count": 19
        }
      ]
    },
    {
      "cell_type": "code",
      "metadata": {
        "id": "2PgkFoVgREZj"
      },
      "source": [
        "tup = ((1,2),(3))"
      ],
      "execution_count": null,
      "outputs": []
    },
    {
      "cell_type": "code",
      "metadata": {
        "colab": {
          "base_uri": "https://localhost:8080/"
        },
        "id": "LLVqz4mMRH0P",
        "outputId": "863e84d1-4926-4c56-fea2-12fb2769389a"
      },
      "source": [
        "tup"
      ],
      "execution_count": null,
      "outputs": [
        {
          "output_type": "execute_result",
          "data": {
            "text/plain": [
              "((1, 2), 3)"
            ]
          },
          "metadata": {
            "tags": []
          },
          "execution_count": 21
        }
      ]
    },
    {
      "cell_type": "markdown",
      "metadata": {
        "id": "DQwzL-O6RcZC"
      },
      "source": [
        "可通过list()和tuple()函数互换"
      ]
    },
    {
      "cell_type": "code",
      "metadata": {
        "colab": {
          "base_uri": "https://localhost:8080/"
        },
        "id": "LjPZwix6T1IV",
        "outputId": "4a95d4b6-49e9-4324-c4af-18d752f0fc2c"
      },
      "source": [
        "mylist = list(tup)\n",
        "mylist"
      ],
      "execution_count": null,
      "outputs": [
        {
          "output_type": "execute_result",
          "data": {
            "text/plain": [
              "[(1, 2), 3]"
            ]
          },
          "metadata": {
            "tags": []
          },
          "execution_count": 33
        }
      ]
    },
    {
      "cell_type": "code",
      "metadata": {
        "colab": {
          "base_uri": "https://localhost:8080/"
        },
        "id": "ueb5uKCPRoFf",
        "outputId": "839f77de-f5c6-401b-9fd6-d8e532c12126"
      },
      "source": [
        "tup = tuple(mylist)\n",
        "tup"
      ],
      "execution_count": null,
      "outputs": [
        {
          "output_type": "execute_result",
          "data": {
            "text/plain": [
              "((1, 2), 3)"
            ]
          },
          "metadata": {
            "tags": []
          },
          "execution_count": 34
        }
      ]
    },
    {
      "cell_type": "markdown",
      "metadata": {
        "id": "k9aF1ugwUT18"
      },
      "source": [
        "列表和元组常用的内置函数"
      ]
    },
    {
      "cell_type": "code",
      "metadata": {
        "id": "6P7emcL-UBFd"
      },
      "source": [
        "mylist = [1,2,3,3,5,8]\n"
      ],
      "execution_count": null,
      "outputs": []
    },
    {
      "cell_type": "code",
      "metadata": {
        "colab": {
          "base_uri": "https://localhost:8080/"
        },
        "id": "cIpzAPnDUeLR",
        "outputId": "93fbfbcc-e438-46df-d03d-7f6516dbb789"
      },
      "source": [
        "mylist.count(3)"
      ],
      "execution_count": null,
      "outputs": [
        {
          "output_type": "execute_result",
          "data": {
            "text/plain": [
              "2"
            ]
          },
          "metadata": {
            "tags": []
          },
          "execution_count": 36
        }
      ]
    },
    {
      "cell_type": "code",
      "metadata": {
        "colab": {
          "base_uri": "https://localhost:8080/"
        },
        "id": "UcBOG6oNUfij",
        "outputId": "bbb4bf5a-609f-433e-80c2-915375959378"
      },
      "source": [
        "mylist.index(8)"
      ],
      "execution_count": null,
      "outputs": [
        {
          "output_type": "execute_result",
          "data": {
            "text/plain": [
              "5"
            ]
          },
          "metadata": {
            "tags": []
          },
          "execution_count": 37
        }
      ]
    },
    {
      "cell_type": "code",
      "metadata": {
        "colab": {
          "base_uri": "https://localhost:8080/"
        },
        "id": "P1v_uIGQUhf2",
        "outputId": "5f61609f-18f4-49f5-bda1-e3ffad9e25cc"
      },
      "source": [
        "mylist.reverse()  # 元组没有\n",
        "mylist"
      ],
      "execution_count": null,
      "outputs": [
        {
          "output_type": "execute_result",
          "data": {
            "text/plain": [
              "[8, 5, 3, 3, 2, 1]"
            ]
          },
          "metadata": {
            "tags": []
          },
          "execution_count": 40
        }
      ]
    },
    {
      "cell_type": "code",
      "metadata": {
        "colab": {
          "base_uri": "https://localhost:8080/"
        },
        "id": "6mKabFhSUny9",
        "outputId": "b44720eb-3741-45f9-fad1-7964d9d57968"
      },
      "source": [
        "mylist.sort() # 元组没有\n",
        "mylist"
      ],
      "execution_count": null,
      "outputs": [
        {
          "output_type": "execute_result",
          "data": {
            "text/plain": [
              "[1, 2, 3, 3, 5, 8]"
            ]
          },
          "metadata": {
            "tags": []
          },
          "execution_count": 42
        }
      ]
    },
    {
      "cell_type": "code",
      "metadata": {
        "id": "lf-K9sVcVCar"
      },
      "source": [
        "tup = (1,2,8,5,7)"
      ],
      "execution_count": null,
      "outputs": []
    },
    {
      "cell_type": "code",
      "metadata": {
        "colab": {
          "base_uri": "https://localhost:8080/"
        },
        "id": "bsbw4lsNVrKH",
        "outputId": "f7a8411d-1368-4d85-9a83-6cb9d2811cb3"
      },
      "source": [
        "tup.index(8)"
      ],
      "execution_count": null,
      "outputs": [
        {
          "output_type": "execute_result",
          "data": {
            "text/plain": [
              "2"
            ]
          },
          "metadata": {
            "tags": []
          },
          "execution_count": 44
        }
      ]
    },
    {
      "cell_type": "code",
      "metadata": {
        "colab": {
          "base_uri": "https://localhost:8080/"
        },
        "id": "qNPdRm-KVsxB",
        "outputId": "f8ef1e03-2106-4b8c-cbab-a588e291dd4a"
      },
      "source": [
        "tup.count(1)"
      ],
      "execution_count": null,
      "outputs": [
        {
          "output_type": "execute_result",
          "data": {
            "text/plain": [
              "1"
            ]
          },
          "metadata": {
            "tags": []
          },
          "execution_count": 45
        }
      ]
    },
    {
      "cell_type": "code",
      "metadata": {
        "colab": {
          "base_uri": "https://localhost:8080/"
        },
        "id": "Sz-jXrG0Vupv",
        "outputId": "20787632-7403-4c32-c1b9-917f98431d93"
      },
      "source": [
        "list(reversed(tup))   #reversed() 返回倒转后的迭代器"
      ],
      "execution_count": null,
      "outputs": [
        {
          "output_type": "execute_result",
          "data": {
            "text/plain": [
              "[7, 5, 8, 2, 1]"
            ]
          },
          "metadata": {
            "tags": []
          },
          "execution_count": 46
        }
      ]
    },
    {
      "cell_type": "code",
      "metadata": {
        "colab": {
          "base_uri": "https://localhost:8080/"
        },
        "id": "F4QsAIkyV0Dd",
        "outputId": "a5f2ccc7-ab04-48b1-ba7a-93da0a05bebc"
      },
      "source": [
        "sorted(tup)"
      ],
      "execution_count": null,
      "outputs": [
        {
          "output_type": "execute_result",
          "data": {
            "text/plain": [
              "[1, 2, 5, 7, 8]"
            ]
          },
          "metadata": {
            "tags": []
          },
          "execution_count": 47
        }
      ]
    },
    {
      "cell_type": "markdown",
      "metadata": {
        "id": "Km71yRe9Wz06"
      },
      "source": [
        "列表和元组存储的差异"
      ]
    },
    {
      "cell_type": "code",
      "metadata": {
        "colab": {
          "base_uri": "https://localhost:8080/"
        },
        "id": "H3UGijsvV28i",
        "outputId": "2e57ef09-9e5d-4d3f-f5de-20d0ed7c121a"
      },
      "source": [
        "mylist = []\n",
        "mylist.__sizeof__()\n"
      ],
      "execution_count": 4,
      "outputs": [
        {
          "output_type": "execute_result",
          "data": {
            "text/plain": [
              "40"
            ]
          },
          "metadata": {
            "tags": []
          },
          "execution_count": 4
        }
      ]
    },
    {
      "cell_type": "code",
      "metadata": {
        "colab": {
          "base_uri": "https://localhost:8080/"
        },
        "id": "_D_loc6PXwiz",
        "outputId": "b4ebe2d7-9114-4214-82ad-b2836636bdc8"
      },
      "source": [
        "mylist = [1,2,3]\n",
        "mylist.__sizeof__()"
      ],
      "execution_count": 5,
      "outputs": [
        {
          "output_type": "execute_result",
          "data": {
            "text/plain": [
              "64"
            ]
          },
          "metadata": {
            "tags": []
          },
          "execution_count": 5
        }
      ]
    },
    {
      "cell_type": "code",
      "metadata": {
        "colab": {
          "base_uri": "https://localhost:8080/"
        },
        "id": "L6q-fsFIa-yW",
        "outputId": "cd38fe34-fd7f-4565-806a-d72700f9c810"
      },
      "source": [
        "tup = ()\n",
        "tup.__sizeof__()"
      ],
      "execution_count": 6,
      "outputs": [
        {
          "output_type": "execute_result",
          "data": {
            "text/plain": [
              "24"
            ]
          },
          "metadata": {
            "tags": []
          },
          "execution_count": 6
        }
      ]
    },
    {
      "cell_type": "code",
      "metadata": {
        "colab": {
          "base_uri": "https://localhost:8080/"
        },
        "id": "8hPJT6S8W7ML",
        "outputId": "2022388f-5071-4094-b69d-04cde6dec572"
      },
      "source": [
        "tup = (1,2,3)\n",
        "tup.__sizeof__()"
      ],
      "execution_count": 7,
      "outputs": [
        {
          "output_type": "execute_result",
          "data": {
            "text/plain": [
              "48"
            ]
          },
          "metadata": {
            "tags": []
          },
          "execution_count": 7
        }
      ]
    },
    {
      "cell_type": "markdown",
      "metadata": {
        "id": "cxiOrdM9XDi2"
      },
      "source": [
        "列表是动态的，元组是静态的，在存储方式上必然有所不同。\n",
        "\n",
        "列表的底层存储结构：[listobject.h](https://github.com/python/cpython/blob/949fe976d5c62ae63ed505ecf729f815d0baccfc/Include/listobject.h)：\n",
        "\n",
        "\n",
        "    typedef struct {\n",
        "        PyObject_VAR_HEAD\n",
        "        /* Vector of pointers to list elements.  list[0] is ob_item[0], etc. */\n",
        "        PyObject **ob_item;\n",
        "\n",
        "        /* ob_item contains space for 'allocated' elements.  The number\n",
        "        * currently in use is ob_size.\n",
        "        * Invariants:\n",
        "        *     0 <= ob_size <= allocated\n",
        "        *     len(list) == ob_size\n",
        "        *     ob_item == NULL implies ob_size == allocated == 0\n",
        "        * list.sort() temporarily sets allocated to -1 to detect mutations.\n",
        "        *\n",
        "        * Items must normally not be NULL, except during construction when\n",
        "        * the list is not yet visible outside the function that builds it.\n",
        "        */\n",
        "        Py_ssize_t allocated;\n",
        "    } PyListObject;\n",
        "\n",
        "* PyObject_VAR_HEAD: 变长对象的公共头部信息\n",
        "* ob_item：一个二级指针(指向指针数组)，指向一个PyObject *类型的指针数组，这个指针数组保存的便是对象的指针，而操作底层数组都是通过ob_item来进行操作的。\n",
        "* allocated：容量, 我们知道列表底层是使用了C的数组, 而底层数组的长度就是列表的容量\n",
        "\n",
        "![image.png](data:image/png;base64,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)\n",
        "\n",
        "列表占用内存大小计算：\n",
        "\n",
        "* PyObject_VAR_HEAD: 24字节\n",
        "* ob_item: 二级指针, 8字节\n",
        "* allocated: 8字节\n",
        "\n",
        "注意：列表计算大小时，ob_item指向的指针数组大小也要包含进来，所以计算公式时：列表大小 = 40 + 指针数组大小 * 8 （指针大小为8字节）。\n",
        "\n"
      ]
    },
    {
      "cell_type": "code",
      "metadata": {
        "colab": {
          "base_uri": "https://localhost:8080/"
        },
        "id": "-EGCF2Ada1mH",
        "outputId": "59a56f11-2316-46da-fdf3-aa10f125cefb"
      },
      "source": [
        "print([1,2,'x'*100].__sizeof__())  # 40 + 3 * 8 = 64 注意，虽然里面有个长度为100个x的字符串，但列表存储的是指针（8字节）"
      ],
      "execution_count": 8,
      "outputs": [
        {
          "output_type": "stream",
          "text": [
            "64\n"
          ],
          "name": "stdout"
        }
      ]
    },
    {
      "cell_type": "code",
      "metadata": {
        "colab": {
          "base_uri": "https://localhost:8080/"
        },
        "id": "rkfmvp1uaaVF",
        "outputId": "63b21dd5-375e-4876-ebc4-de8cef4b7c4e"
      },
      "source": [
        "print([1,2,3].__sizeof__()) # 64\n",
        "print([(1,2,3)].__sizeof__()) #48"
      ],
      "execution_count": 9,
      "outputs": [
        {
          "output_type": "stream",
          "text": [
            "64\n",
            "48\n"
          ],
          "name": "stdout"
        }
      ]
    },
    {
      "cell_type": "markdown",
      "metadata": {
        "id": "mqXKfaRmbG4j"
      },
      "source": [
        "元组的底层存储结构：[tupleobject.h](https://github.com/python/cpython/blob/3d75bd15ac82575967db367c517d7e6e703a6de3/Include/tupleobject.h#L25)\n",
        "\n",
        "\n",
        "    typedef struct {\n",
        "        PyObject_VAR_HEAD\n",
        "        PyObject *ob_item[1];\n",
        "\n",
        "        /* ob_item contains space for 'ob_size' elements.\n",
        "        * Items must normally not be NULL, except during construction when\n",
        "        * the tuple is not yet visible outside the function that builds it.\n",
        "        */\n",
        "    } PyTupleObject;\n",
        "\n",
        "ob_item：指针数组（1可以想象成n）"
      ]
    },
    {
      "cell_type": "code",
      "metadata": {
        "colab": {
          "base_uri": "https://localhost:8080/"
        },
        "id": "TFNa34xUa2-9",
        "outputId": "99846e8c-daf9-4c7b-9b8a-1cbf7dc56400"
      },
      "source": [
        "tup = ()\n",
        "print(tup.__sizeof__())"
      ],
      "execution_count": 10,
      "outputs": [
        {
          "output_type": "stream",
          "text": [
            "24\n"
          ],
          "name": "stdout"
        }
      ]
    },
    {
      "cell_type": "code",
      "metadata": {
        "colab": {
          "base_uri": "https://localhost:8080/"
        },
        "id": "nSXIkoWTbxAf",
        "outputId": "ac822237-82ac-4018-a984-f087bfb909d5"
      },
      "source": [
        "tup = (1) # 不等于 24 + 8 = 32\n",
        "print(tup.__sizeof__())"
      ],
      "execution_count": 13,
      "outputs": [
        {
          "output_type": "stream",
          "text": [
            "28\n"
          ],
          "name": "stdout"
        }
      ]
    },
    {
      "cell_type": "code",
      "metadata": {
        "colab": {
          "base_uri": "https://localhost:8080/"
        },
        "id": "Lowlb3Hkcomq",
        "outputId": "7947e872-4b45-49b5-9e55-78a54d803ec4"
      },
      "source": [
        "tup = (1.0)\n",
        "print(tup.__sizeof__())"
      ],
      "execution_count": 17,
      "outputs": [
        {
          "output_type": "stream",
          "text": [
            "24\n"
          ],
          "name": "stdout"
        }
      ]
    },
    {
      "cell_type": "code",
      "metadata": {
        "colab": {
          "base_uri": "https://localhost:8080/"
        },
        "id": "_LGxMnJPb4u1",
        "outputId": "44bed465-8d40-49a6-9eb2-a437a09c6ba9"
      },
      "source": [
        "tup = ('hello')\n",
        "print(tup.__sizeof__())"
      ],
      "execution_count": 14,
      "outputs": [
        {
          "output_type": "stream",
          "text": [
            "54\n"
          ],
          "name": "stdout"
        }
      ]
    },
    {
      "cell_type": "code",
      "metadata": {
        "colab": {
          "base_uri": "https://localhost:8080/"
        },
        "id": "3x3ZyF3rcEXp",
        "outputId": "0dcaf02e-b7fa-4bc0-dd9b-609c2735e4c4"
      },
      "source": [
        "tup = (1, 'hello')\n",
        "print(tup.__sizeof__())"
      ],
      "execution_count": 15,
      "outputs": [
        {
          "output_type": "stream",
          "text": [
            "40\n"
          ],
          "name": "stdout"
        }
      ]
    },
    {
      "cell_type": "markdown",
      "metadata": {
        "id": "eBCAHXDycJrP"
      },
      "source": [
        "猜测：从上面的执行结果来看，当元组只包含1个元素时，底层不是存储这个元素的指针，而是这个值本身。\n",
        "\n",
        "\n",
        "容易踩坑的点：浅拷贝和深拷贝。\n",
        "\n",
        "浅拷贝：只是指针拷贝一份，但指向的对象是同一份；\n",
        "深拷贝：指针和指向的对象都拷贝一份。\n",
        "\n",
        "示例：\n"
      ]
    },
    {
      "cell_type": "code",
      "metadata": {
        "colab": {
          "base_uri": "https://localhost:8080/"
        },
        "id": "i0rh7iCCc3HK",
        "outputId": "2389f6d2-182f-4444-a793-4cdddc100462"
      },
      "source": [
        "import copy\n",
        "\n",
        "mylist = [[]]\n",
        "# 浅拷贝\n",
        "mylistcopy = mylist.copy()\n",
        "\n",
        "print(id(mylist[0]), id(mylistcopy[0])) # 两个对象相同"
      ],
      "execution_count": 21,
      "outputs": [
        {
          "output_type": "stream",
          "text": [
            "140415463749640 140415463749640\n"
          ],
          "name": "stdout"
        }
      ]
    },
    {
      "cell_type": "code",
      "metadata": {
        "colab": {
          "base_uri": "https://localhost:8080/"
        },
        "id": "YNigpcLlcHqv",
        "outputId": "7a0cdfee-9c34-4299-8942-7f77a3ec246f"
      },
      "source": [
        "mylist[0].append(3)\n",
        "print(mylist[0],mylistcopy[0])"
      ],
      "execution_count": 22,
      "outputs": [
        {
          "output_type": "stream",
          "text": [
            "[3] [3]\n"
          ],
          "name": "stdout"
        }
      ]
    },
    {
      "cell_type": "code",
      "metadata": {
        "colab": {
          "base_uri": "https://localhost:8080/"
        },
        "id": "ZlnhMmiceyZh",
        "outputId": "7f991711-51f6-401a-8802-611bb552e90f"
      },
      "source": [
        "mylistcopy[0].append(4)\n",
        "print(mylist[0],mylistcopy[0])"
      ],
      "execution_count": 23,
      "outputs": [
        {
          "output_type": "stream",
          "text": [
            "[3, 4] [3, 4]\n"
          ],
          "name": "stdout"
        }
      ]
    },
    {
      "cell_type": "code",
      "metadata": {
        "colab": {
          "base_uri": "https://localhost:8080/"
        },
        "id": "MgVtLMGBfCdb",
        "outputId": "d6c26177-7147-44ae-9457-b60b18d0a99d"
      },
      "source": [
        "mylist = [[]]\n",
        "\n",
        "# 深拷贝\n",
        "mylistcopy = copy.deepcopy(mylist)\n",
        "\n",
        "print(id(mylist[0]), id(mylistcopy[0])) # 变成不同的两个对象了"
      ],
      "execution_count": 26,
      "outputs": [
        {
          "output_type": "stream",
          "text": [
            "140415463650696 140415463827464\n"
          ],
          "name": "stdout"
        }
      ]
    },
    {
      "cell_type": "code",
      "metadata": {
        "colab": {
          "base_uri": "https://localhost:8080/"
        },
        "id": "9MevkqKeftER",
        "outputId": "014b8677-4a98-4562-f480-2727ea79ca58"
      },
      "source": [
        "mylist[0].append(3)\n",
        "print(mylist[0],mylistcopy[0])"
      ],
      "execution_count": 27,
      "outputs": [
        {
          "output_type": "stream",
          "text": [
            "[3] []\n"
          ],
          "name": "stdout"
        }
      ]
    },
    {
      "cell_type": "markdown",
      "metadata": {
        "id": "e0IBWIl-gV_j"
      },
      "source": [
        "注意：copy.deepcopy虽然在拷贝指针的同时会将指针指向的对象也拷贝一份，但这仅仅是针对于可变对象，对于不可变对象是不会拷贝的。例如："
      ]
    },
    {
      "cell_type": "code",
      "metadata": {
        "colab": {
          "base_uri": "https://localhost:8080/"
        },
        "id": "LujQwxK8gHpp",
        "outputId": "bb4ee4fd-ed3f-4434-ae16-c1941e152812"
      },
      "source": [
        "mylist = [[], \"hellowold\"]  # 字符串不可变\n",
        "mylistcopy = copy.deepcopy(mylist)\n",
        "\n",
        "print(mylist[0] is mylistcopy[0]) #False\n",
        "print(mylist[1] is mylistcopy[1]) #True"
      ],
      "execution_count": 28,
      "outputs": [
        {
          "output_type": "stream",
          "text": [
            "False\n",
            "True\n"
          ],
          "name": "stdout"
        }
      ]
    },
    {
      "cell_type": "markdown",
      "metadata": {
        "id": "Vc_a43sog4Li"
      },
      "source": [
        "列表还有一些陷阱："
      ]
    },
    {
      "cell_type": "code",
      "metadata": {
        "colab": {
          "base_uri": "https://localhost:8080/"
        },
        "id": "pN9qnwgAgrVk",
        "outputId": "bdffbb77-b249-458d-edfe-df1c5c89c814"
      },
      "source": [
        "mylist = [[]] * 5\n",
        "print(mylist)\n",
        "mylist[0].append('a')\n",
        "print(mylist) # [['a'], ['a'], ['a'], ['a'], ['a']]\n",
        "\n",
        "# 列表乘上一个n，等于把列表里面的元素重复n次\n",
        "# 注意: 类似于lst = [1, 2, 3], 虽然我们写的是整数，但是它存储的并不是整数，而是其指针\n",
        "# 所以会把指针重复5次, 因此列表里面5个指针都指向了同一个列表"
      ],
      "execution_count": 29,
      "outputs": [
        {
          "output_type": "stream",
          "text": [
            "[[], [], [], [], []]\n",
            "[['a'], ['a'], ['a'], ['a'], ['a']]\n"
          ],
          "name": "stdout"
        }
      ]
    },
    {
      "cell_type": "code",
      "metadata": {
        "colab": {
          "base_uri": "https://localhost:8080/"
        },
        "id": "Itp-hQJShMQ7",
        "outputId": "6515cd06-3276-4f32-ab1f-ba90242e1fed"
      },
      "source": [
        "# 这种方式创建的话，里面的元素都指向了不同的列表\n",
        "lst = [[], [], [], [], []]\n",
        "lst[0].append(1)\n",
        "print(lst)  # [[1], [], [], [], []]\n",
        "\n",
        "\n",
        "# 再比如字典，在后续系列中会说\n",
        "d = dict.fromkeys([1, 2, 3, 4], [])\n",
        "print(d)  # {1: [], 2: [], 3: [], 4: []}\n",
        "d[1].append(123)\n",
        "print(d)  # {1: [123], 2: [123], 3: [123], 4: [123]}\n",
        "# 它们都指向了同一个列表，因此这种陷阱在工作中要注意, 因为一不小心就会出现大问题"
      ],
      "execution_count": 30,
      "outputs": [
        {
          "output_type": "stream",
          "text": [
            "[[1], [], [], [], []]\n",
            "{1: [], 2: [], 3: [], 4: []}\n",
            "{1: [123], 2: [123], 3: [123], 4: [123]}\n"
          ],
          "name": "stdout"
        }
      ]
    },
    {
      "cell_type": "markdown",
      "metadata": {
        "id": "mDZynxvbjm_5"
      },
      "source": [
        "性能分析：\n",
        "\n",
        "元组比列表要轻量一些，性能要好一些：\n",
        "\n",
        "* 一方面是因为由于其不可变性，使得在编译的时候就确定了；\n",
        "* 另一方面就是它还具有静态资源缓存的作用。\n",
        "\n",
        "但如果是索引操作的话，两者性能相差不大，可忽略不计"
      ]
    },
    {
      "cell_type": "code",
      "metadata": {
        "colab": {
          "base_uri": "https://localhost:8080/"
        },
        "id": "bCNKyqdgjsb8",
        "outputId": "4ba41497-a280-49a7-e777-da0b7305ba25"
      },
      "source": [
        "from timeit import timeit\n",
        "\n",
        "t1 = timeit(stmt=\"x1 = [1,2,3,4,5]\", number=1000000)\n",
        "t2 = timeit(stmt=\"x2 = (1,2,3,4,5)\",number=1000000)\n",
        "\n",
        "print(round(t1,2))\n",
        "print(round(t2,2))\n"
      ],
      "execution_count": 34,
      "outputs": [
        {
          "output_type": "stream",
          "text": [
            "0.06\n",
            "0.01\n"
          ],
          "name": "stdout"
        }
      ]
    },
    {
      "cell_type": "code",
      "metadata": {
        "colab": {
          "base_uri": "https://localhost:8080/"
        },
        "id": "YEQt5L_sl8Xw",
        "outputId": "cb5bbd83-d096-4ba2-cb46-bca17198e965"
      },
      "source": [
        "!python3 -m timeit -s 'x=[1,2,3,4,5,6]' 'y=x[3]'"
      ],
      "execution_count": 37,
      "outputs": [
        {
          "output_type": "stream",
          "text": [
            "10000000 loops, best of 3: 0.0234 usec per loop\n"
          ],
          "name": "stdout"
        }
      ]
    },
    {
      "cell_type": "code",
      "metadata": {
        "colab": {
          "base_uri": "https://localhost:8080/"
        },
        "id": "i260_H4Hl0-k",
        "outputId": "4c68cacf-536a-4935-ece2-9a868743adcb"
      },
      "source": [
        "!python3 -m timeit -s 'x=(1,2,3,4,5,6)' 'y=x[3]'"
      ],
      "execution_count": 38,
      "outputs": [
        {
          "output_type": "stream",
          "text": [
            "10000000 loops, best of 3: 0.0238 usec per loop\n"
          ],
          "name": "stdout"
        }
      ]
    },
    {
      "cell_type": "markdown",
      "metadata": {
        "id": "nOvJU3PTh2Xk"
      },
      "source": [
        "应用场景：\n",
        "\n",
        "1. 如果存储的数据和数量不变，比如你有一个函数，需要返回的是一个地点的经纬度，然后直接传给前端渲染，那么肯定选用元组更合适。\n",
        "\n",
        "2. 如果存储的数据或数量是可变的，比如社交平台上的一个日志功能，是统计一个用户在一周之内看了哪些用户的帖子，那么则用列表更合适\n",
        "\n",
        "\n",
        "总结：\n",
        "\n",
        "总的来说，列表和元组都是有序的，可以存储任意数据类型的集合，区别主要在于下面这两点。\n",
        "\n",
        "列表是动态的，长度可变，可以随意的增加、删减或改变元素。列表的存储空间略大于元组，性能略逊于元组。\n",
        "\n",
        "元组是静态的，长度大小固定，不可以对元素进行增加、删减或者改变操作。元组相对于列表更加轻量级，性能稍优。\n",
        "\n",
        "参考：\n",
        "\n",
        "1. [解密Python中列表的底层实现](https://www.cnblogs.com/traditional/p/13461463.html)"
      ]
    }
  ]
}